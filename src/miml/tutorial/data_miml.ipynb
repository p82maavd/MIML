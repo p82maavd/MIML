{
  "nbformat": 4,
  "nbformat_minor": 0,
  "metadata": {
    "colab": {
      "provenance": [],
      "authorship_tag": "ABX9TyPN8PEDUjOtzaI0nArX1mTw",
      "include_colab_link": true
    },
    "kernelspec": {
      "name": "python3",
      "display_name": "Python 3"
    },
    "language_info": {
      "name": "python"
    }
  },
  "cells": [
    {
      "cell_type": "markdown",
      "metadata": {
        "id": "view-in-github",
        "colab_type": "text"
      },
      "source": [
        "<a href=\"https://colab.research.google.com/github/p82maavd/MIML/blob/main/src/miml/tutorial/data_miml.ipynb\" target=\"_parent\"><img src=\"https://colab.research.google.com/assets/colab-badge.svg\" alt=\"Open In Colab\"/></a>"
      ]
    },
    {
      "cell_type": "code",
      "execution_count": 3,
      "metadata": {
        "id": "L-_qkpnOxj_V",
        "colab": {
          "base_uri": "https://localhost:8080/"
        },
        "outputId": "0a59dd1f-62c5-47b5-8904-9a7a19178611"
      },
      "outputs": [
        {
          "output_type": "stream",
          "name": "stdout",
          "text": [
            "Number of bags: 2\n",
            "Number of Instances: 5\n",
            "Number of Features: 3\n",
            "Number of Labels: 4\n",
            "Number of Attributes: 7\n"
          ]
        }
      ],
      "source": [
        "import pkg_resources\n",
        "from miml.datasets import load_dataset, load_toy\n",
        "\n",
        "dataset = load_toy()\n",
        "print(\"Number of bags:\", dataset.get_number_bags())\n",
        "print(\"Number of Instances:\", dataset.get_number_instances())\n",
        "print(\"Number of Features:\", dataset.get_number_features())\n",
        "print(\"Number of Labels:\", dataset.get_number_labels())\n",
        "print(\"Number of Attributes:\", dataset.get_number_attributes())\n"
      ]
    },
    {
      "cell_type": "code",
      "source": [
        "# Shows all bags in the dataset\n",
        "for bag_index in range(dataset.get_number_bags()):\n",
        "\n",
        "    # Recover a bag\n",
        "    bag = dataset.get_bag(bag_index)\n",
        "    print(\"Bag:\", bag.key)\n",
        "    print(\"\\tNumInstances:\", bag.get_number_instances())\n",
        "    print(\"\\tNumFeatures:\", bag.get_number_features())\n",
        "    print(\"\\tNumLabels:\", bag.get_number_labels())\n",
        "    print(\"\\tNumAttributes:\", bag.get_number_attributes())\n",
        "\n",
        "    # Shows all instances in the bag\n",
        "    for instance_index in range(bag.get_number_instances()):\n",
        "        # Recovers an instance\n",
        "        instance = dataset.get_instance(bag.key, instance_index)\n",
        "        print(\"\\t\\tInstance:\", instance_index, \"NumAttributes:\", instance.get_number_attributes())\n",
        "        for k in range(instance.get_number_attributes()):\n",
        "            print(\"\\t\\t\\tAttribute\", k, \":\", instance.get_attribute(k))\n",
        "\n"
      ],
      "metadata": {
        "id": "c1OvYWW9Eyhw",
        "colab": {
          "base_uri": "https://localhost:8080/"
        },
        "outputId": "b4910be6-6575-4ca2-a283-47e7f844e05c"
      },
      "execution_count": 4,
      "outputs": [
        {
          "output_type": "stream",
          "name": "stdout",
          "text": [
            "Bag: bag1\n",
            "\tNumInstances: 3\n",
            "\tNumFeatures: 3\n",
            "\tNumLabels: 4\n",
            "\tNumAttributes: 7\n",
            "\t\tInstance: 0 NumAttributes: 7\n",
            "\t\t\tAttribute 0 : 42.0\n",
            "\t\t\tAttribute 1 : -198.0\n",
            "\t\t\tAttribute 2 : -109.0\n",
            "\t\t\tAttribute 3 : 1.0\n",
            "\t\t\tAttribute 4 : 0.0\n",
            "\t\t\tAttribute 5 : 0.0\n",
            "\t\t\tAttribute 6 : 1.0\n",
            "\t\tInstance: 1 NumAttributes: 7\n",
            "\t\t\tAttribute 0 : 41.9\n",
            "\t\t\tAttribute 1 : -191.0\n",
            "\t\t\tAttribute 2 : -142.0\n",
            "\t\t\tAttribute 3 : 1.0\n",
            "\t\t\tAttribute 4 : 0.0\n",
            "\t\t\tAttribute 5 : 0.0\n",
            "\t\t\tAttribute 6 : 1.0\n",
            "\t\tInstance: 2 NumAttributes: 7\n",
            "\t\t\tAttribute 0 : 35.0\n",
            "\t\t\tAttribute 1 : 14.2\n",
            "\t\t\tAttribute 2 : 6.33\n",
            "\t\t\tAttribute 3 : 1.0\n",
            "\t\t\tAttribute 4 : 0.0\n",
            "\t\t\tAttribute 5 : 0.0\n",
            "\t\t\tAttribute 6 : 1.0\n",
            "Bag: bag2\n",
            "\tNumInstances: 2\n",
            "\tNumFeatures: 3\n",
            "\tNumLabels: 4\n",
            "\tNumAttributes: 7\n",
            "\t\tInstance: 0 NumAttributes: 7\n",
            "\t\t\tAttribute 0 : 11.25\n",
            "\t\t\tAttribute 1 : -98.0\n",
            "\t\t\tAttribute 2 : 10.0\n",
            "\t\t\tAttribute 3 : 0.0\n",
            "\t\t\tAttribute 4 : 1.0\n",
            "\t\t\tAttribute 5 : 1.0\n",
            "\t\t\tAttribute 6 : 0.0\n",
            "\t\tInstance: 1 NumAttributes: 7\n",
            "\t\t\tAttribute 0 : 31.0\n",
            "\t\t\tAttribute 1 : 40.5\n",
            "\t\t\tAttribute 2 : 7.85\n",
            "\t\t\tAttribute 3 : 0.0\n",
            "\t\t\tAttribute 4 : 1.0\n",
            "\t\t\tAttribute 5 : 1.0\n",
            "\t\t\tAttribute 6 : 0.0\n"
          ]
        }
      ]
    },
    {
      "cell_type": "code",
      "source": [
        "# Shows dataset metrics\n",
        "dataset.describe()"
      ],
      "metadata": {
        "colab": {
          "base_uri": "https://localhost:8080/"
        },
        "id": "_bVd_RyLgqlG",
        "outputId": "0b1b4fe2-2ca1-4fe6-8b8a-ea5bb69cfb09"
      },
      "execution_count": 5,
      "outputs": [
        {
          "output_type": "stream",
          "name": "stdout",
          "text": [
            "-----MULTILABEL-----\n",
            "Cardinality:  2.0\n",
            "Density:  0.5\n",
            "Distinct:  0.125\n",
            "\n",
            "-----MULTIINSTANCE-----\n",
            "Nº of bags:  2\n",
            "Total instances:  5\n",
            "Average Instances per bag:  2.5\n",
            "Min Instances per bag:  2\n",
            "Max Instances per bag:  3\n",
            "Attributes per bag:  7\n",
            "\n",
            "Distribution of bags:\n",
            "\tBags with  2  instances:  1\n",
            "\tBags with  3  instances:  1\n"
          ]
        }
      ]
    }
  ]
}